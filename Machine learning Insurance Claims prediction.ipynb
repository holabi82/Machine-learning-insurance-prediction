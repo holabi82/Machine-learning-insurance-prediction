{
 "cells": [
  {
   "cell_type": "markdown",
   "id": "fca17f96-4f35-4edd-9266-65d60221ffe2",
   "metadata": {},
   "source": [
    "Problem Statement\n",
    "\n",
    "You have been appointed as the Lead Data Analyst to build a predictive model to determine if a building will have an insurance claim during a certain period or not. You will have to predict the probability of having at least one claim over the insured period of the building.The model will be based on the building characteristics. The target variable, Claim, is a:\n",
    "\n",
    "1 if the building has at least a claim over the insured period. 0 if the building doesn’t have a claim over the insured period.\n"
   ]
  },
  {
   "cell_type": "code",
   "execution_count": null,
   "id": "1da1d81c-ee38-45c8-9bc1-e7af6c9a2ecb",
   "metadata": {},
   "outputs": [],
   "source": []
  }
 ],
 "metadata": {
  "kernelspec": {
   "display_name": "Python 3 (ipykernel)",
   "language": "python",
   "name": "python3"
  },
  "language_info": {
   "codemirror_mode": {
    "name": "ipython",
    "version": 3
   },
   "file_extension": ".py",
   "mimetype": "text/x-python",
   "name": "python",
   "nbconvert_exporter": "python",
   "pygments_lexer": "ipython3",
   "version": "3.12.4"
  }
 },
 "nbformat": 4,
 "nbformat_minor": 5
}
